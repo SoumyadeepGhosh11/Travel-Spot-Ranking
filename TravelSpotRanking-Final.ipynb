{
 "cells": [
  {
   "cell_type": "code",
   "execution_count": 1,
   "id": "929b6d51-812c-4964-a784-61a4cd30782d",
   "metadata": {},
   "outputs": [
    {
     "name": "stdout",
     "output_type": "stream",
     "text": [
      "Defaulting to user installation because normal site-packages is not writeable\n",
      "Collecting geopy\n",
      "  Downloading geopy-2.4.1-py3-none-any.whl.metadata (6.8 kB)\n",
      "Collecting geographiclib<3,>=1.52 (from geopy)\n",
      "  Downloading geographiclib-2.0-py3-none-any.whl.metadata (1.4 kB)\n",
      "Downloading geopy-2.4.1-py3-none-any.whl (125 kB)\n",
      "   ---------------------------------------- 0.0/125.4 kB ? eta -:--:--\n",
      "   ------ --------------------------------- 20.5/125.4 kB ? eta -:--:--\n",
      "   --------------- ----------------------- 51.2/125.4 kB 525.1 kB/s eta 0:00:01\n",
      "   ---------------------------------------  122.9/125.4 kB 1.0 MB/s eta 0:00:01\n",
      "   ---------------------------------------  122.9/125.4 kB 1.0 MB/s eta 0:00:01\n",
      "   -------------------------------------- 125.4/125.4 kB 616.0 kB/s eta 0:00:00\n",
      "Downloading geographiclib-2.0-py3-none-any.whl (40 kB)\n",
      "   ---------------------------------------- 0.0/40.3 kB ? eta -:--:--\n",
      "   ---------------------------------------- 40.3/40.3 kB 2.0 MB/s eta 0:00:00\n",
      "Installing collected packages: geographiclib, geopy\n",
      "Successfully installed geographiclib-2.0 geopy-2.4.1\n",
      "Note: you may need to restart the kernel to use updated packages.\n"
     ]
    }
   ],
   "source": [
    "pip install geopy\n"
   ]
  },
  {
   "cell_type": "code",
   "execution_count": 1,
   "id": "7ab6e9c1-ebe4-4c8f-9f5f-ff9b1276d496",
   "metadata": {},
   "outputs": [],
   "source": [
    "import warnings\n",
    "warnings.filterwarnings(\"ignore\")"
   ]
  },
  {
   "cell_type": "code",
   "execution_count": 2,
   "id": "f7004c11-8d11-4e59-9e11-cc4f72233578",
   "metadata": {},
   "outputs": [],
   "source": [
    "import numpy as np\n",
    "import pandas as pd\n",
    "import matplotlib.pyplot as plt\n",
    "plt.rcParams['figure.dpi'] = 200\n",
    "import seaborn as sns\n",
    "import math\n",
    "from scipy import stats\n",
    "from scipy.stats import norm"
   ]
  },
  {
   "cell_type": "code",
   "execution_count": 3,
   "id": "290566b8-2112-4886-b40e-b513ece9adc9",
   "metadata": {},
   "outputs": [
    {
     "data": {
      "text/html": [
       "<div>\n",
       "<style scoped>\n",
       "    .dataframe tbody tr th:only-of-type {\n",
       "        vertical-align: middle;\n",
       "    }\n",
       "\n",
       "    .dataframe tbody tr th {\n",
       "        vertical-align: top;\n",
       "    }\n",
       "\n",
       "    .dataframe thead th {\n",
       "        text-align: right;\n",
       "    }\n",
       "</style>\n",
       "<table border=\"1\" class=\"dataframe\">\n",
       "  <thead>\n",
       "    <tr style=\"text-align: right;\">\n",
       "      <th></th>\n",
       "      <th>Unnamed: 0</th>\n",
       "      <th>Zone</th>\n",
       "      <th>State</th>\n",
       "      <th>City</th>\n",
       "      <th>Name</th>\n",
       "      <th>Type</th>\n",
       "      <th>Establishment Year</th>\n",
       "      <th>time needed to visit in hrs</th>\n",
       "      <th>Google review rating</th>\n",
       "      <th>Entrance Fee in INR</th>\n",
       "      <th>Airport with 50km Radius</th>\n",
       "      <th>Weekly Off</th>\n",
       "      <th>Significance</th>\n",
       "      <th>DSLR Allowed</th>\n",
       "      <th>Number of google review in lakhs</th>\n",
       "      <th>Best Time to visit</th>\n",
       "    </tr>\n",
       "  </thead>\n",
       "  <tbody>\n",
       "    <tr>\n",
       "      <th>0</th>\n",
       "      <td>0</td>\n",
       "      <td>Northern</td>\n",
       "      <td>Delhi</td>\n",
       "      <td>Delhi</td>\n",
       "      <td>India Gate</td>\n",
       "      <td>War Memorial</td>\n",
       "      <td>1921</td>\n",
       "      <td>0.5</td>\n",
       "      <td>4.6</td>\n",
       "      <td>0</td>\n",
       "      <td>Yes</td>\n",
       "      <td>NaN</td>\n",
       "      <td>Historical</td>\n",
       "      <td>Yes</td>\n",
       "      <td>2.6</td>\n",
       "      <td>Evening</td>\n",
       "    </tr>\n",
       "    <tr>\n",
       "      <th>1</th>\n",
       "      <td>1</td>\n",
       "      <td>Northern</td>\n",
       "      <td>Delhi</td>\n",
       "      <td>Delhi</td>\n",
       "      <td>Humayun's Tomb</td>\n",
       "      <td>Tomb</td>\n",
       "      <td>1572</td>\n",
       "      <td>2.0</td>\n",
       "      <td>4.5</td>\n",
       "      <td>30</td>\n",
       "      <td>Yes</td>\n",
       "      <td>NaN</td>\n",
       "      <td>Historical</td>\n",
       "      <td>Yes</td>\n",
       "      <td>0.4</td>\n",
       "      <td>Afternoon</td>\n",
       "    </tr>\n",
       "    <tr>\n",
       "      <th>2</th>\n",
       "      <td>2</td>\n",
       "      <td>Northern</td>\n",
       "      <td>Delhi</td>\n",
       "      <td>Delhi</td>\n",
       "      <td>Akshardham Temple</td>\n",
       "      <td>Temple</td>\n",
       "      <td>2005</td>\n",
       "      <td>5.0</td>\n",
       "      <td>4.6</td>\n",
       "      <td>60</td>\n",
       "      <td>Yes</td>\n",
       "      <td>NaN</td>\n",
       "      <td>Religious</td>\n",
       "      <td>No</td>\n",
       "      <td>0.4</td>\n",
       "      <td>Afternoon</td>\n",
       "    </tr>\n",
       "  </tbody>\n",
       "</table>\n",
       "</div>"
      ],
      "text/plain": [
       "   Unnamed: 0      Zone  State   City               Name          Type  \\\n",
       "0           0  Northern  Delhi  Delhi         India Gate  War Memorial   \n",
       "1           1  Northern  Delhi  Delhi     Humayun's Tomb          Tomb   \n",
       "2           2  Northern  Delhi  Delhi  Akshardham Temple        Temple   \n",
       "\n",
       "  Establishment Year  time needed to visit in hrs  Google review rating  \\\n",
       "0               1921                          0.5                   4.6   \n",
       "1               1572                          2.0                   4.5   \n",
       "2               2005                          5.0                   4.6   \n",
       "\n",
       "   Entrance Fee in INR Airport with 50km Radius Weekly Off Significance  \\\n",
       "0                    0                      Yes        NaN   Historical   \n",
       "1                   30                      Yes        NaN   Historical   \n",
       "2                   60                      Yes        NaN    Religious   \n",
       "\n",
       "  DSLR Allowed  Number of google review in lakhs Best Time to visit  \n",
       "0          Yes                               2.6            Evening  \n",
       "1          Yes                               0.4          Afternoon  \n",
       "2           No                               0.4          Afternoon  "
      ]
     },
     "execution_count": 3,
     "metadata": {},
     "output_type": "execute_result"
    }
   ],
   "source": [
    "data = pd.read_csv('Top Indian Places to Visit.csv')\n",
    "data.head(3)"
   ]
  },
  {
   "cell_type": "code",
   "execution_count": 4,
   "id": "302f7a9f-d335-4229-a2c9-4766404df9b8",
   "metadata": {},
   "outputs": [
    {
     "data": {
      "text/plain": [
       "array(['Northern', 'Western', 'Southern', 'Eastern', 'Central',\n",
       "       'North Eastern'], dtype=object)"
      ]
     },
     "execution_count": 4,
     "metadata": {},
     "output_type": "execute_result"
    }
   ],
   "source": [
    "data[\"Zone\"].unique()"
   ]
  },
  {
   "cell_type": "code",
   "execution_count": 5,
   "id": "56ac0f41-9a96-4cbc-a328-805151c401ff",
   "metadata": {},
   "outputs": [
    {
     "data": {
      "text/plain": [
       "array(['Yes', 'No'], dtype=object)"
      ]
     },
     "execution_count": 5,
     "metadata": {},
     "output_type": "execute_result"
    }
   ],
   "source": [
    "data[\"Airport with 50km Radius\"].unique()"
   ]
  },
  {
   "cell_type": "code",
   "execution_count": 6,
   "id": "7babb4cf-9506-4cae-81d1-209bac321270",
   "metadata": {},
   "outputs": [
    {
     "data": {
      "text/plain": [
       "array(['Yes', 'No'], dtype=object)"
      ]
     },
     "execution_count": 6,
     "metadata": {},
     "output_type": "execute_result"
    }
   ],
   "source": [
    "data[\"DSLR Allowed\"].unique()"
   ]
  },
  {
   "cell_type": "code",
   "execution_count": 7,
   "id": "68f8678b-8b45-450f-872e-1cf60f794807",
   "metadata": {},
   "outputs": [
    {
     "data": {
      "text/plain": [
       "array(['Evening', 'Afternoon', 'Morning', 'All', 'All ', 'Anytime',\n",
       "       'Night'], dtype=object)"
      ]
     },
     "execution_count": 7,
     "metadata": {},
     "output_type": "execute_result"
    }
   ],
   "source": [
    "data[\"Best Time to visit\"].unique()"
   ]
  },
  {
   "cell_type": "code",
   "execution_count": 8,
   "id": "d45d4c8e-6c50-4426-9ec9-932605563e04",
   "metadata": {},
   "outputs": [
    {
     "data": {
      "text/plain": [
       "(325, 16)"
      ]
     },
     "execution_count": 8,
     "metadata": {},
     "output_type": "execute_result"
    }
   ],
   "source": [
    "data.shape"
   ]
  },
  {
   "cell_type": "code",
   "execution_count": 9,
   "id": "bcb3a178-ee8a-4bcc-a587-be3603c370f8",
   "metadata": {},
   "outputs": [
    {
     "data": {
      "text/html": [
       "<div>\n",
       "<style scoped>\n",
       "    .dataframe tbody tr th:only-of-type {\n",
       "        vertical-align: middle;\n",
       "    }\n",
       "\n",
       "    .dataframe tbody tr th {\n",
       "        vertical-align: top;\n",
       "    }\n",
       "\n",
       "    .dataframe thead th {\n",
       "        text-align: right;\n",
       "    }\n",
       "</style>\n",
       "<table border=\"1\" class=\"dataframe\">\n",
       "  <thead>\n",
       "    <tr style=\"text-align: right;\">\n",
       "      <th></th>\n",
       "      <th>Unnamed: 0</th>\n",
       "      <th>time needed to visit in hrs</th>\n",
       "      <th>Google review rating</th>\n",
       "      <th>Entrance Fee in INR</th>\n",
       "      <th>Number of google review in lakhs</th>\n",
       "    </tr>\n",
       "  </thead>\n",
       "  <tbody>\n",
       "    <tr>\n",
       "      <th>count</th>\n",
       "      <td>325.000000</td>\n",
       "      <td>325.000000</td>\n",
       "      <td>325.000000</td>\n",
       "      <td>325.000000</td>\n",
       "      <td>325.000000</td>\n",
       "    </tr>\n",
       "    <tr>\n",
       "      <th>mean</th>\n",
       "      <td>162.000000</td>\n",
       "      <td>1.807692</td>\n",
       "      <td>4.486154</td>\n",
       "      <td>115.809231</td>\n",
       "      <td>0.408438</td>\n",
       "    </tr>\n",
       "    <tr>\n",
       "      <th>std</th>\n",
       "      <td>93.963645</td>\n",
       "      <td>0.971398</td>\n",
       "      <td>0.274580</td>\n",
       "      <td>530.859785</td>\n",
       "      <td>0.646668</td>\n",
       "    </tr>\n",
       "    <tr>\n",
       "      <th>min</th>\n",
       "      <td>0.000000</td>\n",
       "      <td>0.500000</td>\n",
       "      <td>1.400000</td>\n",
       "      <td>0.000000</td>\n",
       "      <td>0.010000</td>\n",
       "    </tr>\n",
       "    <tr>\n",
       "      <th>25%</th>\n",
       "      <td>81.000000</td>\n",
       "      <td>1.000000</td>\n",
       "      <td>4.400000</td>\n",
       "      <td>0.000000</td>\n",
       "      <td>0.059000</td>\n",
       "    </tr>\n",
       "    <tr>\n",
       "      <th>50%</th>\n",
       "      <td>162.000000</td>\n",
       "      <td>1.500000</td>\n",
       "      <td>4.500000</td>\n",
       "      <td>0.000000</td>\n",
       "      <td>0.170000</td>\n",
       "    </tr>\n",
       "    <tr>\n",
       "      <th>75%</th>\n",
       "      <td>243.000000</td>\n",
       "      <td>2.000000</td>\n",
       "      <td>4.600000</td>\n",
       "      <td>40.000000</td>\n",
       "      <td>0.500000</td>\n",
       "    </tr>\n",
       "    <tr>\n",
       "      <th>max</th>\n",
       "      <td>324.000000</td>\n",
       "      <td>7.000000</td>\n",
       "      <td>4.900000</td>\n",
       "      <td>7500.000000</td>\n",
       "      <td>7.400000</td>\n",
       "    </tr>\n",
       "  </tbody>\n",
       "</table>\n",
       "</div>"
      ],
      "text/plain": [
       "       Unnamed: 0  time needed to visit in hrs  Google review rating  \\\n",
       "count  325.000000                   325.000000            325.000000   \n",
       "mean   162.000000                     1.807692              4.486154   \n",
       "std     93.963645                     0.971398              0.274580   \n",
       "min      0.000000                     0.500000              1.400000   \n",
       "25%     81.000000                     1.000000              4.400000   \n",
       "50%    162.000000                     1.500000              4.500000   \n",
       "75%    243.000000                     2.000000              4.600000   \n",
       "max    324.000000                     7.000000              4.900000   \n",
       "\n",
       "       Entrance Fee in INR  Number of google review in lakhs  \n",
       "count           325.000000                        325.000000  \n",
       "mean            115.809231                          0.408438  \n",
       "std             530.859785                          0.646668  \n",
       "min               0.000000                          0.010000  \n",
       "25%               0.000000                          0.059000  \n",
       "50%               0.000000                          0.170000  \n",
       "75%              40.000000                          0.500000  \n",
       "max            7500.000000                          7.400000  "
      ]
     },
     "execution_count": 9,
     "metadata": {},
     "output_type": "execute_result"
    }
   ],
   "source": [
    "data.describe()"
   ]
  },
  {
   "cell_type": "code",
   "execution_count": 10,
   "id": "6fa0a795-a261-445c-914d-27ff4090834b",
   "metadata": {},
   "outputs": [
    {
     "name": "stdout",
     "output_type": "stream",
     "text": [
      "<class 'pandas.core.frame.DataFrame'>\n",
      "RangeIndex: 325 entries, 0 to 324\n",
      "Data columns (total 16 columns):\n",
      " #   Column                            Non-Null Count  Dtype  \n",
      "---  ------                            --------------  -----  \n",
      " 0   Unnamed: 0                        325 non-null    int64  \n",
      " 1   Zone                              325 non-null    object \n",
      " 2   State                             325 non-null    object \n",
      " 3   City                              325 non-null    object \n",
      " 4   Name                              325 non-null    object \n",
      " 5   Type                              325 non-null    object \n",
      " 6   Establishment Year                325 non-null    object \n",
      " 7   time needed to visit in hrs       325 non-null    float64\n",
      " 8   Google review rating              325 non-null    float64\n",
      " 9   Entrance Fee in INR               325 non-null    int64  \n",
      " 10  Airport with 50km Radius          325 non-null    object \n",
      " 11  Weekly Off                        32 non-null     object \n",
      " 12  Significance                      325 non-null    object \n",
      " 13  DSLR Allowed                      325 non-null    object \n",
      " 14  Number of google review in lakhs  325 non-null    float64\n",
      " 15  Best Time to visit                325 non-null    object \n",
      "dtypes: float64(3), int64(2), object(11)\n",
      "memory usage: 40.8+ KB\n"
     ]
    }
   ],
   "source": [
    "data.info() # here we can see \"weekly off\" contains too much NULL values"
   ]
  },
  {
   "cell_type": "code",
   "execution_count": 11,
   "id": "923a0722-1f7d-4aee-beb5-281101249f8a",
   "metadata": {},
   "outputs": [
    {
     "data": {
      "text/plain": [
       "Unnamed: 0                            0\n",
       "Zone                                  0\n",
       "State                                 0\n",
       "City                                  0\n",
       "Name                                  0\n",
       "Type                                  0\n",
       "Establishment Year                    0\n",
       "time needed to visit in hrs           0\n",
       "Google review rating                  0\n",
       "Entrance Fee in INR                   0\n",
       "Airport with 50km Radius              0\n",
       "Weekly Off                          293\n",
       "Significance                          0\n",
       "DSLR Allowed                          0\n",
       "Number of google review in lakhs      0\n",
       "Best Time to visit                    0\n",
       "dtype: int64"
      ]
     },
     "execution_count": 11,
     "metadata": {},
     "output_type": "execute_result"
    }
   ],
   "source": [
    "data.isnull().sum() # checking for NULL values in each column"
   ]
  },
  {
   "cell_type": "code",
   "execution_count": 12,
   "id": "fc9370a8-7c62-4a38-a6d5-494d4a57d289",
   "metadata": {},
   "outputs": [
    {
     "data": {
      "text/plain": [
       "90.15384615384615"
      ]
     },
     "execution_count": 12,
     "metadata": {},
     "output_type": "execute_result"
    }
   ],
   "source": [
    "(293/325)*100  # so 90% data is missing in \"weekly off\" column, its better to drop the column"
   ]
  },
  {
   "cell_type": "code",
   "execution_count": 13,
   "id": "f1f355aa-b7b4-475a-8fed-5bba1ec07140",
   "metadata": {},
   "outputs": [],
   "source": [
    "data = data.drop(['Weekly Off'], axis = 1) #dropping column \"weelky off\""
   ]
  },
  {
   "cell_type": "code",
   "execution_count": 14,
   "id": "d4a332bf-5b3a-429d-b951-7124b2f2b24e",
   "metadata": {},
   "outputs": [
    {
     "data": {
      "text/html": [
       "<div>\n",
       "<style scoped>\n",
       "    .dataframe tbody tr th:only-of-type {\n",
       "        vertical-align: middle;\n",
       "    }\n",
       "\n",
       "    .dataframe tbody tr th {\n",
       "        vertical-align: top;\n",
       "    }\n",
       "\n",
       "    .dataframe thead th {\n",
       "        text-align: right;\n",
       "    }\n",
       "</style>\n",
       "<table border=\"1\" class=\"dataframe\">\n",
       "  <thead>\n",
       "    <tr style=\"text-align: right;\">\n",
       "      <th></th>\n",
       "      <th>Unnamed: 0</th>\n",
       "      <th>Zone</th>\n",
       "      <th>State</th>\n",
       "      <th>City</th>\n",
       "      <th>Name</th>\n",
       "      <th>Type</th>\n",
       "      <th>Establishment Year</th>\n",
       "      <th>time needed to visit in hrs</th>\n",
       "      <th>Google review rating</th>\n",
       "      <th>Entrance Fee in INR</th>\n",
       "      <th>Airport with 50km Radius</th>\n",
       "      <th>Significance</th>\n",
       "      <th>DSLR Allowed</th>\n",
       "      <th>Number of google review in lakhs</th>\n",
       "      <th>Best Time to visit</th>\n",
       "    </tr>\n",
       "  </thead>\n",
       "  <tbody>\n",
       "  </tbody>\n",
       "</table>\n",
       "</div>"
      ],
      "text/plain": [
       "Empty DataFrame\n",
       "Columns: [Unnamed: 0, Zone, State, City, Name, Type, Establishment Year, time needed to visit in hrs, Google review rating, Entrance Fee in INR, Airport with 50km Radius, Significance, DSLR Allowed, Number of google review in lakhs, Best Time to visit]\n",
       "Index: []"
      ]
     },
     "execution_count": 14,
     "metadata": {},
     "output_type": "execute_result"
    }
   ],
   "source": [
    "data.loc[data.duplicated()] # there is no duplicated rows"
   ]
  },
  {
   "cell_type": "code",
   "execution_count": 15,
   "id": "a0b62b17-0dc2-4635-b746-7bf68e5e839d",
   "metadata": {},
   "outputs": [],
   "source": [
    "\n",
    "# Encode categorical features\n",
    "data['Airport with 50km Radius'] = data['Airport with 50km Radius'].map({'Yes': 1, 'No': 0})\n",
    "data['DSLR Allowed'] = data['DSLR Allowed'].map({'Yes': 1, 'No': 0})\n"
   ]
  },
  {
   "cell_type": "code",
   "execution_count": 16,
   "id": "7b546f70-383a-4d7c-95f2-435bacf02909",
   "metadata": {},
   "outputs": [],
   "source": [
    "# Calculate overall score\n",
    "data['overall_score'] = (data['Google review rating'] * 0.4) + \\\n",
    "                        (data['Number of google review in lakhs'] * 0.3) + \\\n",
    "                        (data['time needed to visit in hrs'] * 0.2) - \\\n",
    "                        (data['Entrance Fee in INR'] * 0.1)\n"
   ]
  },
  {
   "cell_type": "code",
   "execution_count": 80,
   "id": "ef7d40b9-77a3-4c52-bc41-c182ffad1485",
   "metadata": {},
   "outputs": [],
   "source": [
    "\n",
    "from geopy.distance import geodesic\n",
    "\n",
    "# Manually add latitude and longitude to your dataset\n",
    "city_coordinates = {\n",
    "    'Delhi': (28.7041, 77.1025),\n",
    "    'Mumbai': (19.0760, 72.8777),\n",
    "    'Kolkata': (22.5726, 88.3639),\n",
    "    'Bangalore': (12.9716, 77.5946),\n",
    "    'Hyderabad': (17.3850, 78.4867),\n",
    "    \n",
    "}\n",
    "\n",
    "def get_city_coordinates(city):\n",
    "    return city_coordinates.get(city, (0,0))\n",
    "\n",
    "def calculate_distance(city1_coords, city2_coords):\n",
    "    return geodesic(city1_coords, city2_coords).km\n",
    "    \n",
    "\n",
    "# Assuming user city is Kolkata\n",
    "user_city = 'Kolkata'\n",
    "user_city_coords = get_city_coordinates(user_city)\n",
    "\n",
    "\n",
    "# Add distance column\n",
    "data['distance_km'] = data['City'].apply(lambda city: calculate_distance(user_city_coords, get_city_coordinates(city)))\n",
    "\n"
   ]
  },
  {
   "cell_type": "code",
   "execution_count": 85,
   "id": "654ad647-f701-45f8-bd4d-69f49d1ed58d",
   "metadata": {},
   "outputs": [
    {
     "data": {
      "text/html": [
       "<div>\n",
       "<style scoped>\n",
       "    .dataframe tbody tr th:only-of-type {\n",
       "        vertical-align: middle;\n",
       "    }\n",
       "\n",
       "    .dataframe tbody tr th {\n",
       "        vertical-align: top;\n",
       "    }\n",
       "\n",
       "    .dataframe thead th {\n",
       "        text-align: right;\n",
       "    }\n",
       "</style>\n",
       "<table border=\"1\" class=\"dataframe\">\n",
       "  <thead>\n",
       "    <tr style=\"text-align: right;\">\n",
       "      <th></th>\n",
       "      <th>Unnamed: 0</th>\n",
       "      <th>Zone</th>\n",
       "      <th>State</th>\n",
       "      <th>City</th>\n",
       "      <th>Name</th>\n",
       "      <th>Type</th>\n",
       "      <th>Establishment Year</th>\n",
       "      <th>time needed to visit in hrs</th>\n",
       "      <th>Google review rating</th>\n",
       "      <th>Entrance Fee in INR</th>\n",
       "      <th>Airport with 50km Radius</th>\n",
       "      <th>Significance</th>\n",
       "      <th>DSLR Allowed</th>\n",
       "      <th>Number of google review in lakhs</th>\n",
       "      <th>Best Time to visit</th>\n",
       "      <th>overall_score</th>\n",
       "      <th>distance_km</th>\n",
       "    </tr>\n",
       "  </thead>\n",
       "  <tbody>\n",
       "    <tr>\n",
       "      <th>0</th>\n",
       "      <td>0</td>\n",
       "      <td>Northern</td>\n",
       "      <td>Delhi</td>\n",
       "      <td>Delhi</td>\n",
       "      <td>India Gate</td>\n",
       "      <td>War Memorial</td>\n",
       "      <td>1921</td>\n",
       "      <td>0.5</td>\n",
       "      <td>4.6</td>\n",
       "      <td>0</td>\n",
       "      <td>1</td>\n",
       "      <td>Historical</td>\n",
       "      <td>1</td>\n",
       "      <td>2.6</td>\n",
       "      <td>Evening</td>\n",
       "      <td>2.72</td>\n",
       "      <td>1318.138916</td>\n",
       "    </tr>\n",
       "    <tr>\n",
       "      <th>1</th>\n",
       "      <td>1</td>\n",
       "      <td>Northern</td>\n",
       "      <td>Delhi</td>\n",
       "      <td>Delhi</td>\n",
       "      <td>Humayun's Tomb</td>\n",
       "      <td>Tomb</td>\n",
       "      <td>1572</td>\n",
       "      <td>2.0</td>\n",
       "      <td>4.5</td>\n",
       "      <td>30</td>\n",
       "      <td>1</td>\n",
       "      <td>Historical</td>\n",
       "      <td>1</td>\n",
       "      <td>0.4</td>\n",
       "      <td>Afternoon</td>\n",
       "      <td>-0.68</td>\n",
       "      <td>1318.138916</td>\n",
       "    </tr>\n",
       "    <tr>\n",
       "      <th>2</th>\n",
       "      <td>2</td>\n",
       "      <td>Northern</td>\n",
       "      <td>Delhi</td>\n",
       "      <td>Delhi</td>\n",
       "      <td>Akshardham Temple</td>\n",
       "      <td>Temple</td>\n",
       "      <td>2005</td>\n",
       "      <td>5.0</td>\n",
       "      <td>4.6</td>\n",
       "      <td>60</td>\n",
       "      <td>1</td>\n",
       "      <td>Religious</td>\n",
       "      <td>0</td>\n",
       "      <td>0.4</td>\n",
       "      <td>Afternoon</td>\n",
       "      <td>-3.04</td>\n",
       "      <td>1318.138916</td>\n",
       "    </tr>\n",
       "  </tbody>\n",
       "</table>\n",
       "</div>"
      ],
      "text/plain": [
       "   Unnamed: 0      Zone  State   City               Name          Type  \\\n",
       "0           0  Northern  Delhi  Delhi         India Gate  War Memorial   \n",
       "1           1  Northern  Delhi  Delhi     Humayun's Tomb          Tomb   \n",
       "2           2  Northern  Delhi  Delhi  Akshardham Temple        Temple   \n",
       "\n",
       "  Establishment Year  time needed to visit in hrs  Google review rating  \\\n",
       "0               1921                          0.5                   4.6   \n",
       "1               1572                          2.0                   4.5   \n",
       "2               2005                          5.0                   4.6   \n",
       "\n",
       "   Entrance Fee in INR  Airport with 50km Radius Significance  DSLR Allowed  \\\n",
       "0                    0                         1   Historical             1   \n",
       "1                   30                         1   Historical             1   \n",
       "2                   60                         1    Religious             0   \n",
       "\n",
       "   Number of google review in lakhs Best Time to visit  overall_score  \\\n",
       "0                               2.6            Evening           2.72   \n",
       "1                               0.4          Afternoon          -0.68   \n",
       "2                               0.4          Afternoon          -3.04   \n",
       "\n",
       "   distance_km  \n",
       "0  1318.138916  \n",
       "1  1318.138916  \n",
       "2  1318.138916  "
      ]
     },
     "execution_count": 85,
     "metadata": {},
     "output_type": "execute_result"
    }
   ],
   "source": [
    "data.head(3)"
   ]
  },
  {
   "cell_type": "code",
   "execution_count": 81,
   "id": "23ffb17b-297a-4e39-8a57-d39586455111",
   "metadata": {},
   "outputs": [],
   "source": [
    "# Filter places within 300 km\n",
    "filtered_data = data[data['distance_km'] <= 300]\n"
   ]
  },
  {
   "cell_type": "markdown",
   "id": "b12de298-fdb0-421a-9209-189fa6e1d5c9",
   "metadata": {},
   "source": [
    "# Model Building"
   ]
  },
  {
   "cell_type": "code",
   "execution_count": 82,
   "id": "bd9f4a93-a47c-4d54-a1d7-76dcf587f43b",
   "metadata": {},
   "outputs": [
    {
     "name": "stdout",
     "output_type": "stream",
     "text": [
      "Cross-Validation R-squared Scores: [1. 1. 1. 1. 1.]\n",
      "Mean Cross-Validation R-squared Score: 1.0\n"
     ]
    }
   ],
   "source": [
    "from sklearn.model_selection import train_test_split,cross_val_score\n",
    "from sklearn.preprocessing import StandardScaler\n",
    "from sklearn.linear_model import LinearRegression\n",
    "\n",
    "# Define features and target\n",
    "features = ['Google review rating', 'Number of google review in lakhs', 'time needed to visit in hrs', 'Entrance Fee in INR', 'distance_km']\n",
    "target = 'overall_score'\n",
    "\n",
    "# Split the data\n",
    "X = filtered_data[features]\n",
    "y = filtered_data[target]\n",
    "# Scale features\n",
    "scaler = StandardScaler()\n",
    "X_scaled = scaler.fit_transform(X)\n",
    "X_train, X_test, y_train, y_test = train_test_split(X, y, test_size=0.2, random_state=42)\n",
    "\n",
    "# Train the model\n",
    "model = LinearRegression()\n",
    "model.fit(X_train, y_train)\n",
    "\n",
    "# Perform cross-validation\n",
    "cv_scores = cross_val_score(model, X_scaled, y, cv=5, scoring='r2')\n",
    "print(f'Cross-Validation R-squared Scores: {cv_scores}')\n",
    "print(f'Mean Cross-Validation R-squared Score: {cv_scores.mean()}')\n",
    "\n",
    "y_pred = model.predict(X_test) # predict score\n",
    "\n"
   ]
  },
  {
   "cell_type": "code",
   "execution_count": 83,
   "id": "9f839b9d-2efb-471b-81dd-8761e987014a",
   "metadata": {},
   "outputs": [],
   "source": [
    "# Rank places based on predicted scores\n",
    "filtered_data['predicted_score'] = model.predict(X_scaled)\n",
    "ranked_places = filtered_data.sort_values(by='predicted_score', ascending=False)"
   ]
  },
  {
   "cell_type": "markdown",
   "id": "ae3cbedd-227b-4bce-8a1c-71c905641c1d",
   "metadata": {},
   "source": [
    "# Result"
   ]
  },
  {
   "cell_type": "code",
   "execution_count": 84,
   "id": "af04b46a-e426-42b0-baca-e018b3d7aae6",
   "metadata": {},
   "outputs": [
    {
     "name": "stdout",
     "output_type": "stream",
     "text": [
      "                          Name     City  predicted_score\n",
      "45    Dakshineswar Kali Temple  Kolkata         0.576845\n",
      "43               Howrah Bridge  Kolkata         0.564244\n",
      "49        Science City Kolkata  Kolkata         0.461336\n",
      "42           Victoria Memorial  Kolkata         0.400377\n",
      "50                  Belur Math  Kolkata         0.397235\n",
      "44               Indian Museum  Kolkata         0.044706\n",
      "48  Alipore Zoological Gardens  Kolkata        -0.190490\n",
      "46        Kalighat Kali Temple  Kolkata        -0.355209\n",
      "51               Marble Palace  Kolkata        -0.701961\n",
      "47                Eden Gardens  Kolkata        -1.197083\n"
     ]
    }
   ],
   "source": [
    "# Display top weekend destinations\n",
    "top_weekend_places = ranked_places[['Name', 'City', 'predicted_score']]\n",
    "print(top_weekend_places.head(10))"
   ]
  },
  {
   "cell_type": "markdown",
   "id": "8fe57947-1d89-46bc-b6e1-1e54b03cd2c2",
   "metadata": {},
   "source": [
    "# Checking Accuracy"
   ]
  },
  {
   "cell_type": "code",
   "execution_count": 73,
   "id": "dba9b5b3-8fe5-4181-bf07-c7cd4d76735e",
   "metadata": {},
   "outputs": [],
   "source": [
    "from sklearn.metrics import mean_absolute_error, mean_squared_error, r2_score\n"
   ]
  },
  {
   "cell_type": "code",
   "execution_count": 74,
   "id": "daaefffe-4372-4369-b37d-59b64d411ab0",
   "metadata": {},
   "outputs": [
    {
     "name": "stdout",
     "output_type": "stream",
     "text": [
      "Mean Absolute Error: 2.9976021664879227e-15\n",
      "Mean Squared Error: 1.2276647837501996e-29\n",
      "R-squared: 1.0\n"
     ]
    }
   ],
   "source": [
    "mae = mean_absolute_error(y_test, y_pred)\n",
    "mse = mean_squared_error(y_test, y_pred)\n",
    "r2 = r2_score(y_test, y_pred)\n",
    "\n",
    "print(f'Mean Absolute Error: {mae}')\n",
    "print(f'Mean Squared Error: {mse}')\n",
    "print(f'R-squared: {r2}')\n"
   ]
  },
  {
   "cell_type": "code",
   "execution_count": null,
   "id": "23c93c9c-a886-47be-b2fb-9d8c2a642822",
   "metadata": {},
   "outputs": [],
   "source": []
  }
 ],
 "metadata": {
  "kernelspec": {
   "display_name": "Python 3 (ipykernel)",
   "language": "python",
   "name": "python3"
  },
  "language_info": {
   "codemirror_mode": {
    "name": "ipython",
    "version": 3
   },
   "file_extension": ".py",
   "mimetype": "text/x-python",
   "name": "python",
   "nbconvert_exporter": "python",
   "pygments_lexer": "ipython3",
   "version": "3.12.4"
  }
 },
 "nbformat": 4,
 "nbformat_minor": 5
}
